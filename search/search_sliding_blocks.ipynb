{
  "nbformat": 4,
  "nbformat_minor": 0,
  "metadata": {
    "kernelspec": {
      "display_name": "Python 3",
      "language": "python",
      "name": "python3"
    },
    "language_info": {
      "codemirror_mode": {
        "name": "ipython",
        "version": 3
      },
      "file_extension": ".py",
      "mimetype": "text/x-python",
      "name": "python",
      "nbconvert_exporter": "python",
      "pygments_lexer": "ipython3",
      "version": "3.7.6"
    },
    "colab": {
      "name": "search-sliding-blocks.ipynb",
      "provenance": []
    }
  },
  "cells": [
    {
      "cell_type": "markdown",
      "metadata": {
        "id": "ofsaXTxTCaGl",
        "colab_type": "text"
      },
      "source": [
        "<center><h1>Artificial Intelligence</h1>\n",
        "<h3>Search Algorithms Coursework</h3>   \n",
        "<h4>Prof. Felipe Meneguzzi</h4></center>\n",
        "<h5>Computer Science (4646A-4)</h5>"
      ]
    },
    {
      "cell_type": "code",
      "metadata": {
        "id": "mB8OSr1C-L55",
        "colab_type": "code",
        "colab": {}
      },
      "source": [
        "from google.colab import drive\n",
        "drive.mount('/content/drive')"
      ],
      "execution_count": 0,
      "outputs": []
    },
    {
      "cell_type": "code",
      "metadata": {
        "id": "oWyQER45-Weo",
        "colab_type": "code",
        "colab": {}
      },
      "source": [
        "from google.colab import files\n",
        "src = list(files.upload().values())[0]\n",
        "open('test_pathfinder.py','wb').write(src)\n",
        "import test_pathfinder"
      ],
      "execution_count": 0,
      "outputs": []
    },
    {
      "cell_type": "markdown",
      "metadata": {
        "id": "CX6SUfIICaGm",
        "colab_type": "text"
      },
      "source": [
        "<h2>1 Sliding Puzzle</h2>\n",
        "\n",
        "<p>The <a href=\"https://en.wikipedia.org/wiki/Sliding_puzzle\">Sliding Puzzle</a>, also called <b>sliding block puzzle</b> is a combination puzzle that challenges a player to slide (frequently flat) pieces along certain routes (usually on a board) to establish a certain end-configuration. The pieces to be moved may consist of simple shapes, or they may be imprinted with colors, patterns, sections of a larger picture (like a jigsaw puzzle), numbers, or letters. An example of a set of legal moves is shown below in Figure 1.</p>\n",
        "\n",
        "Rules of this game are very simple - we are sliding (←, →, ↑ , ↓) tiles to reach the final state in which all numbers are in order with ‘1’ in the top left corner of the board.\n",
        "\n"
      ]
    },
    {
      "cell_type": "code",
      "metadata": {
        "id": "Pq5vx88jIIxn",
        "colab_type": "code",
        "colab": {}
      },
      "source": [
        "from IPython.display import Image"
      ],
      "execution_count": 0,
      "outputs": []
    },
    {
      "cell_type": "code",
      "metadata": {
        "id": "9IOA3IbAD8XJ",
        "colab_type": "code",
        "colab": {}
      },
      "source": [
        "Image(open('example.gif','rb').read(), width=200)"
      ],
      "execution_count": 0,
      "outputs": []
    },
    {
      "cell_type": "markdown",
      "metadata": {
        "id": "g-tVFelOEHed",
        "colab_type": "text"
      },
      "source": [
        "<center>Figure 1: A sequence of valid moves for sliding-puzzle's navigation problem</center>"
      ]
    },
    {
      "cell_type": "markdown",
      "metadata": {
        "id": "t577T6hzCaGn",
        "colab_type": "text"
      },
      "source": [
        "<h2>2 Overview</h2>\n",
        "<p>For this not-graded assignment, you will be implementing the A* informed search algorithm to solve instances of the navigation problem. Given a board state, find a combination of moves that leads to the final state. As an informed search method, A*, relies on an heuristic distance function in order to efficiently prune the state space and speed up the search tree expansion towards the solution. In class, we have seen two possible heuristics that can be applied to this problem, but in this assignment, we will focus on the Manhattan Distance Heuristic. This heuristic consists of distance in orthogonal movements between the block and its desired destination. "
      ]
    },
    {
      "cell_type": "markdown",
      "metadata": {
        "id": "wrNWC-onCaGo",
        "colab_type": "text"
      },
      "source": [
        "<h2>3 Implementation</h2>\n",
        "<p>Organize your implementation in an appropriate number of classes, modules and methods. At the bare minimum, you are required to implement only the API in Listing 1, below. However, it is highly recommended that you create individual classes to represent elements in the state space as well as nodes in the search tree. We note that the API shown below in Listing 1 is deliberately simplified to give students the maximum freedom to develop their own internal APIs (and minimize coincidental similarities in implementation), and that well developed code is a component of the final mark. By way of comparison, the instructor’s implementation has 3 classes and 6 additional methods (beyond those of Listing 1).</p>"
      ]
    },
    {
      "cell_type": "code",
      "metadata": {
        "id": "0riypcd1CaGp",
        "colab_type": "code",
        "colab": {}
      },
      "source": [
        "# --------------------------\n",
        "# Listing 1: pathfinder.py\n",
        "# --------------------------\n",
        "\n",
        "class PathFinder_A_Star:\n",
        "    def init (self):\n",
        "        # TODO initialize your attributes here if needed\n",
        "        pass\n",
        "    \n",
        "    def function (self, p1, p2):\n",
        "        # TODO priority function to use with the PriorityQueue\n",
        "        # You are free not to use this function\n",
        "            # (it is not tested in the unit test)\n",
        "        return None\n",
        "    \n",
        "    def heuristic (self, p1, p2):\n",
        "        # TODO heuristic function\n",
        "        # You are free not to use this function\n",
        "            # (it is not graded in the unit test)\n",
        "        return 0\n",
        "    \n",
        "    def solve (self, map) :\n",
        "        # TODO returns a list of movements (may be empty)\n",
        "            # if plan found, otherwise returns None\n",
        "        return None\n",
        "\n",
        "    def get_solvable (self, map):\n",
        "        # TODO returns True if plan found,\n",
        "        # otherwise returns False\n",
        "        return False\n",
        "    \n",
        "    def get_max_tree_height (self, map):\n",
        "        # TODO returns max tree height if plan found,\n",
        "            # otherwise returns None\n",
        "        return None\n",
        "\n",
        "    def get_min_moves (self, map):\n",
        "        # TODO returns size of minimal plan to reach goal if plan found,\n",
        "            # otherwise returns None\n",
        "        return None"
      ],
      "execution_count": 0,
      "outputs": []
    },
    {
      "cell_type": "markdown",
      "metadata": {
        "id": "Q8Yva4ulCaGu",
        "colab_type": "text"
      },
      "source": [
        "<h2>4 Code-Specific Advice</h2>\n",
        "\n",
        "<ul>\n",
        "    <li>In <b>common.py</b>, you can change the current map modifying the <b>DEFAULT_MAP</b> constant;</li>\n",
        "    <li>You can also change the block's movement speed modifying the <b>MOVE_SPEED</b> constant in the same file;</li>\n",
        "    <li>All classes and methods which you must complete yourself are marked with the <b>TODO</b> keyword (search for that using your favorite editor);</li>\n",
        "<ul>       "
      ]
    },
    {
      "cell_type": "markdown",
      "metadata": {
        "id": "wvTi6xmVCaGv",
        "colab_type": "text"
      },
      "source": [
        "<h2>5 Miscellaneous Advice</h2>\n",
        "<p>Here are some lessons we learned in creating our own solution and writing papers/reports:</p>\n",
        "\n",
        "<ul>\n",
        "    <li>It took the instructor approximately 3 hours to code and debug the solution for this problem from scratch based on the pseudocode at Artificial Intelligence: A Modern Approach, plan your time accordingly;</li>\n",
        "    <li>The instructor’s implementation takes about 60 seconds to explore the entire state-space of a problem in a 500 × 500 grid;</li>\n",
        "    <li>If your program is taking overly long to solve the problem, you can use the python profiler to find out where the problem is by running <b>python -m cProfile pathfinder.py hard.txt</b>, where <b>hard.txt</b> is your 500 by 500 map.</li>\n",
        "</ul>"
      ]
    },
    {
      "cell_type": "markdown",
      "metadata": {
        "id": "_li7vuoZCaGv",
        "colab_type": "text"
      },
      "source": [
        "<h2>6 Testing</h2>\n",
        "\n",
        "You can automatically test your own code with <b>test_pathfinder.py</b> bellow. <br>\n",
        "Or, if you prefer the file comes with the project package, simply open a terminal, go to your project folder and run <b>python -C test_pathfinder.py</b> in the command line."
      ]
    },
    {
      "cell_type": "code",
      "metadata": {
        "id": "aR3m3zPQCaGw",
        "colab_type": "code",
        "outputId": "35146f27-c12b-499e-dd6b-00d15326b7c9",
        "colab": {
          "base_uri": "https://localhost:8080/",
          "height": 200
        }
      },
      "source": [
        "import unittest\n",
        "from common import *\n",
        "\n",
        "try:\n",
        "    from timeout_decorator import timeout\n",
        "except:\n",
        "    print (\"\"\"Oops! It looks like you don\\'t have timeout-decorator installed. Please do so using the following command:\n",
        "        pip install timeout-decorator\"\"\")\n",
        "    sys.exit(0)\n",
        "\n",
        "# Map definitions\n",
        "TRIVIAL = \"trivial.txt\"\n",
        "TRIVIAL_SOLUTION = []\n",
        "TRIVIAL_MAX_TREE_HEIGHT = 0\n",
        "TRIVIAL_GRADE = 0.25\n",
        "\n",
        "EASY = \"easy.txt\"\n",
        "EASY_SOLUTION = [\n",
        "    MOVE_UP, MOVE_UP, MOVE_UP, MOVE_UP, MOVE_UP, MOVE_UP,\n",
        "    MOVE_RIGHT, MOVE_RIGHT, MOVE_RIGHT]\n",
        "EASY_MAX_TREE_HEIGHT = 9 # ToDo find max tree height correct value\n",
        "EASY_GRADE = 0.25\n",
        "\n",
        "MEDIUM = \"medium.txt\"\n",
        "MEDIUM_SOLUTION = [\n",
        "    MOVE_DOWN, MOVE_DOWN, MOVE_DOWN, MOVE_DOWN, MOVE_DOWN, MOVE_DOWN, MOVE_DOWN,\n",
        "    MOVE_RIGHT, MOVE_RIGHT, MOVE_RIGHT, MOVE_RIGHT, MOVE_RIGHT,\n",
        "    MOVE_UP, MOVE_UP, MOVE_UP,\n",
        "    MOVE_RIGHT, MOVE_RIGHT, MOVE_RIGHT,\n",
        "    MOVE_UP, MOVE_UP,\n",
        "    MOVE_LEFT, MOVE_LEFT, MOVE_LEFT,\n",
        "    MOVE_UP, MOVE_UP,\n",
        "    MOVE_LEFT, MOVE_LEFT, MOVE_LEFT]\n",
        "MEDIUM_MAX_TREE_HEIGHT = 28 # ToDo find max tree height correct value\n",
        "MEDIUM_GRADE = 0.25\n",
        "\n",
        "\n",
        "# ==========================================\n",
        "# Test A*\n",
        "# ==========================================\n",
        "\n",
        "class Test_A_Star(unittest.TestCase):\n",
        "\n",
        "    # ------------------------------------------\n",
        "    # Setup\n",
        "    # ------------------------------------------\n",
        "\n",
        "    @classmethod\n",
        "    def setUpClass(cls):\n",
        "        cls.grade = 0.0\n",
        "        cls.total = 0.0\n",
        "\n",
        "    @classmethod\n",
        "    def tearDownClass(cls):\n",
        "        print (\"  Grade: \", cls.grade, \" of \", cls.total)\n",
        "\n",
        "    # ------------------------------------------\n",
        "    # Common tests\n",
        "    # ------------------------------------------\n",
        "\n",
        "    def solvable(self, map_name, expected):\n",
        "        map = read_map(map_name)\n",
        "        pathfinder = PathFinder_A_Star()\n",
        "        pathfinder.solve(map)\n",
        "        #self.assertEqual(pathfinder.get_solvable(map), expected)\n",
        "        var1 = pathfinder.get_solvable(map)\n",
        "        var2 = expected\n",
        "        if var1 != var2:\n",
        "            print (\"solvable failed! pathfinder.get_solvable(map) is not equal to expected\\n\")\n",
        "\n",
        "    def plan_match(self, map_name, moves):\n",
        "        plan = PathFinder_A_Star().solve(read_map(map_name))\n",
        "        #self.assertEqual(plan, moves)\n",
        "        var1 = plan\n",
        "        var2 = moves\n",
        "        if var1 != var2:\n",
        "            print (\"plan_match failed! plan is not equal to moves\\n\")\n",
        "\n",
        "    def max_tree_height(self, map_name, height):\n",
        "        map = read_map(map_name)\n",
        "        pathfinder = PathFinder_A_Star()\n",
        "        plan = pathfinder.solve(map)\n",
        "        #self.assertEqual(pathfinder.get_max_tree_height(map), height)\n",
        "        var1 = pathfinder.get_max_tree_height(map)\n",
        "        var2 = height\n",
        "        if var1 != var2:\n",
        "            print (\"max_tree_height failed! pathfinder.get_max_tree_height(map) is not equal to height\\n\")\n",
        "\n",
        "    def min_moves(self, map_name, moves):\n",
        "        map = read_map(map_name)\n",
        "        pathfinder = PathFinder_A_Star()\n",
        "        plan = pathfinder.solve(map)\n",
        "        if moves != None:\n",
        "            #self.assertEqual(pathfinder.get_min_moves(map), len(moves))\n",
        "            var1 = pathfinder.get_min_moves(map)\n",
        "            var2 = len(moves)\n",
        "            if var1 != var2:\n",
        "                print (\"min_moves failed! pathfinder.get_min_moves(map) is not equal to len(moves)\\n\")\n",
        "\n",
        "        else:\n",
        "            #self.assertEqual(pathfinder.get_min_moves(map), moves)\n",
        "            var1 = pathfinder.get_min_moves(map)\n",
        "            var2 = moves\n",
        "            if var1 != var2:\n",
        "                print (\"min_moves failed! pathfinder.get_min_moves(map) is not equal to moves\\n\")\n",
        "\n",
        "\n",
        "    # =============\n",
        "    # = Heuristic =\n",
        "    # =============\n",
        "    \n",
        "    def test_heuristic(self):\n",
        "        pathfinder = PathFinder_A_Star()\n",
        "        p1 = Point(1, 2)\n",
        "        p2 = Point(1, 3)\n",
        "        #self.assertEqual(pathfinder.heuristic(p1, p2),1)\n",
        "        var1 = pathfinder.heuristic(p1, p2)\n",
        "        var2 = 1\n",
        "        if var1 != var2:\n",
        "            print (\"test_heuristic failed! pathfinder.heuristic(p1, p2) is not equal to 1\\n\")\n",
        "        \n",
        "        p1 = Point(2, 2)\n",
        "        p2 = Point(1, 3)\n",
        "        #self.assertEqual(pathfinder.heuristic(p1, p2),2)\n",
        "        var1 = pathfinder.heuristic(p1, p2)\n",
        "        var2 = 2\n",
        "        if var1 != var2:\n",
        "            print (\"test_heuristic failed! pathfinder.heuristic(p1, p2) is not equal to 2\\n\")\n",
        "            \n",
        "        p1 = Point(20, 2)\n",
        "        p2 = Point(1, 2)\n",
        "        #self.assertEqual(pathfinder.heuristic(p1, p2),19)\n",
        "        var1 = pathfinder.heuristic(p1, p2)\n",
        "        var2 = 19\n",
        "        if var1 != var2:\n",
        "            print (\"test_heuristic failed! pathfinder.heuristic(p1, p2) is not equal to 19\\n\")\n",
        "\n",
        "    # ------------------------------------------\n",
        "    # Trivial\n",
        "    # ------------------------------------------\n",
        "    @timeout(15)\n",
        "    def test_trivial_solvable(self):\n",
        "        self.__class__.total += TRIVIAL_GRADE\n",
        "        self.solvable(TRIVIAL, True)\n",
        "        self.__class__.grade += TRIVIAL_GRADE\n",
        "\n",
        "    @timeout(15)\n",
        "    def test_trivial_plan_match(self):\n",
        "        self.__class__.total += TRIVIAL_GRADE\n",
        "        self.plan_match(TRIVIAL, TRIVIAL_SOLUTION)\n",
        "        self.__class__.grade += TRIVIAL_GRADE\n",
        "\n",
        "    @timeout(15)\n",
        "    def test_trivial_max_tree_height(self):\n",
        "        self.__class__.total += TRIVIAL_GRADE\n",
        "        self.max_tree_height(TRIVIAL, TRIVIAL_MAX_TREE_HEIGHT)\n",
        "        self.__class__.grade += TRIVIAL_GRADE\n",
        "\n",
        "    @timeout(15)\n",
        "    def test_trivial_min_moves(self):\n",
        "        self.__class__.total += TRIVIAL_GRADE\n",
        "        self.min_moves(TRIVIAL, TRIVIAL_SOLUTION)\n",
        "        self.__class__.grade += TRIVIAL_GRADE\n",
        "\n",
        "    # ------------------------------------------\n",
        "    # Easy\n",
        "    # ------------------------------------------\n",
        "    @timeout(15)\n",
        "    def test_easy_solvable(self):\n",
        "        self.__class__.total += EASY_GRADE\n",
        "        self.solvable(EASY, True)\n",
        "        self.__class__.grade += EASY_GRADE\n",
        "\n",
        "    @timeout(15)\n",
        "    def test_easy_plan_match(self):\n",
        "        self.__class__.total += EASY_GRADE\n",
        "        self.plan_match(EASY, EASY_SOLUTION)\n",
        "        self.__class__.grade += EASY_GRADE\n",
        "\n",
        "    @timeout(15)\n",
        "    def test_easy_max_tree_height(self):\n",
        "        self.__class__.total += EASY_GRADE\n",
        "        self.max_tree_height(EASY, EASY_MAX_TREE_HEIGHT)\n",
        "        self.__class__.grade += EASY_GRADE\n",
        "\n",
        "    @timeout(15)\n",
        "    def test_easy_min_moves(self):\n",
        "        self.__class__.total += EASY_GRADE\n",
        "        self.min_moves(EASY, EASY_SOLUTION)\n",
        "        self.__class__.grade += EASY_GRADE\n",
        "\n",
        "    # ------------------------------------------\n",
        "    # Medium\n",
        "    # ------------------------------------------\n",
        "    @timeout(15)\n",
        "    def test_medium_solvable(self):\n",
        "        self.__class__.total += MEDIUM_GRADE\n",
        "        self.solvable(MEDIUM, True)\n",
        "        self.__class__.grade += MEDIUM_GRADE\n",
        "\n",
        "    @timeout(15)\n",
        "    def test_medium_plan_match(self):\n",
        "        self.__class__.total += MEDIUM_GRADE\n",
        "        self.plan_match(MEDIUM, MEDIUM_SOLUTION)\n",
        "        self.__class__.grade += MEDIUM_GRADE\n",
        "\n",
        "    @timeout(15)\n",
        "    def test_medium_max_tree_height(self):\n",
        "        self.__class__.total += MEDIUM_GRADE\n",
        "        self.max_tree_height(MEDIUM, MEDIUM_MAX_TREE_HEIGHT)\n",
        "        self.__class__.grade += MEDIUM_GRADE\n",
        "\n",
        "    @timeout(15)\n",
        "    def test_medium_min_moves(self):\n",
        "        self.__class__.total += MEDIUM_GRADE\n",
        "        self.min_moves(MEDIUM, MEDIUM_SOLUTION)\n",
        "        self.__class__.grade += MEDIUM_GRADE\n",
        "\n",
        "        \n",
        "if __name__ == '__main__':\n",
        "    unittest.main(argv=['first-arg-is-ignored'], exit=False)\n",
        "    #unittest.main()\n",
        "\n"
      ],
      "execution_count": 0,
      "outputs": [
        {
          "output_type": "stream",
          "text": [
            "Oops! It looks like you don't have timeout-decorator installed. Please do so using the following command:\n",
            "        pip install timeout-decorator\n"
          ],
          "name": "stdout"
        },
        {
          "output_type": "error",
          "ename": "SystemExit",
          "evalue": "ignored",
          "traceback": [
            "An exception has occurred, use %tb to see the full traceback.\n",
            "\u001b[0;31mSystemExit\u001b[0m\u001b[0;31m:\u001b[0m 0\n"
          ]
        },
        {
          "output_type": "stream",
          "text": [
            "/usr/local/lib/python3.6/dist-packages/IPython/core/interactiveshell.py:2890: UserWarning: To exit: use 'exit', 'quit', or Ctrl-D.\n",
            "  warn(\"To exit: use 'exit', 'quit', or Ctrl-D.\", stacklevel=1)\n"
          ],
          "name": "stderr"
        }
      ]
    },
    {
      "cell_type": "code",
      "metadata": {
        "id": "vaDelFycCaG1",
        "colab_type": "code",
        "colab": {}
      },
      "source": [
        ""
      ],
      "execution_count": 0,
      "outputs": []
    }
  ]
}