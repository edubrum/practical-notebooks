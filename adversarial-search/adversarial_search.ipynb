{
  "nbformat": 4,
  "nbformat_minor": 0,
  "metadata": {
    "kernelspec": {
      "display_name": "Python 3",
      "language": "python",
      "name": "python3"
    },
    "language_info": {
      "codemirror_mode": {
        "name": "ipython",
        "version": 3
      },
      "file_extension": ".py",
      "mimetype": "text/x-python",
      "name": "python",
      "nbconvert_exporter": "python",
      "pygments_lexer": "ipython3",
      "version": "3.7.6"
    },
    "colab": {
      "name": "adversarial-search.ipynb",
      "provenance": [],
      "toc_visible": true
    }
  },
  "cells": [
    {
      "cell_type": "markdown",
      "metadata": {
        "id": "ogFdys_4mxHA",
        "colab_type": "text"
      },
      "source": [
        "<a href=\"https://colab.research.google.com/github/pucrs-ai-cs/practical-notebooks/blob/master/adversarial-search/adversarial_search.ipynb\" target=\"_parent\"><img src=\"https://colab.research.google.com/assets/colab-badge.svg\" alt=\"Open In Colab\"/></a>"
      ]
    },
    {
      "cell_type": "markdown",
      "metadata": {
        "id": "ausPPhPt1ag0",
        "colab_type": "text"
      },
      "source": [
        "<center><h1>Artificial Intelligence</h1>\n",
        "<h3>Adversarial Search Coursework</h3>   \n",
        "<h4>Prof. Felipe Meneguzzi</h4>\n",
        "<h5>Computer Science (4646A-4)</h5></center>\n"
      ]
    },
    {
      "cell_type": "markdown",
      "metadata": {
        "id": "8abu9F_GROh-",
        "colab_type": "text"
      },
      "source": [
        "The necessary files to run the code in this exercise is available in Google Drive in the following url.\n",
        "\n",
        "We can download it using the gdown package, and save it as 'data.tar.gz' in the working directory.\n",
        "\n",
        "<b>IMPORTANT: to edit open in playground mode!</b>"
      ]
    },
    {
      "cell_type": "code",
      "metadata": {
        "id": "711j5G2U0Zpp",
        "colab_type": "code",
        "colab": {}
      },
      "source": [
        "import gdown\n",
        "\n",
        "target_url = 'https://drive.google.com/uc?id=14L-Ta2ukdXKwjwFzpwbuqNJdbGxTLWPd'\n",
        "\n",
        "gdown.download(target_url,'data.tar.gz',quiet=False)\n"
      ],
      "execution_count": 0,
      "outputs": []
    },
    {
      "cell_type": "markdown",
      "metadata": {
        "id": "bOWn6q87RHgx",
        "colab_type": "text"
      },
      "source": [
        "Now, we extract files from the tarball:"
      ]
    },
    {
      "cell_type": "code",
      "metadata": {
        "id": "QWdlbk6VQRYb",
        "colab_type": "code",
        "colab": {}
      },
      "source": [
        "import os\n",
        "\n",
        "#set data location\n",
        "file_path = './data.tar.gz'\n",
        "\n",
        "#extract tarball\n",
        "if os.path.exists(file_path):\n",
        "  import tarfile\n",
        "  tar = tarfile.open(file_path, \"r:gz\") \n",
        "  tar.extractall()\n",
        "  tar.close()"
      ],
      "execution_count": 0,
      "outputs": []
    },
    {
      "cell_type": "markdown",
      "metadata": {
        "id": "zMN_9sspXgTO",
        "colab_type": "text"
      },
      "source": [
        "Finally, we import the dependencies:"
      ]
    },
    {
      "cell_type": "code",
      "metadata": {
        "id": "V4J4AXZRU1zw",
        "colab_type": "code",
        "colab": {}
      },
      "source": [
        "open('__init__.py')\n",
        "import player\n",
        "import player_alphabeta\n",
        "import player_random\n",
        "import player_alphabeta\n",
        "open('common.py')\n",
        "import common\n",
        "open('tictactoe.py')\n",
        "import tictactoe\n",
        "open('util.py')\n",
        "import util"
      ],
      "execution_count": 0,
      "outputs": []
    },
    {
      "cell_type": "code",
      "metadata": {
        "id": "xIWMgdeTama4",
        "colab_type": "code",
        "colab": {}
      },
      "source": [
        ""
      ],
      "execution_count": 0,
      "outputs": []
    },
    {
      "cell_type": "markdown",
      "metadata": {
        "id": "f81c5Ehg1ag1",
        "colab_type": "text"
      },
      "source": [
        "<h2>1 TicTacToe</h2>\n",
        "\n",
        "<p>TicTacToe¹, is an ancient game, that, if <a href=\"https://en.wikipedia.org/wiki/Tic-tac-toe\">Wikipedia</a> is to be believed, originates in Ancient Egypt, and was played in Ancient Rome. More importantly, it is simple enough that one can easily generate the entire game tree within a computer, which lends itself to implementation without complex optimizations to the basic MiniMax algorithm. An example of a set of legal moves is shown below in Figure 1.</p>\n",
        "\n",
        "<p>In this assignment, you will calculate the next move for the computer player using the <b>MiniMax algorithm</b>. Since the command line allows you to select which player moves first (i.e. the human or computer), your code must be able to handle the scenario where the human moves first and the scenario where the human moves second. You can also specify that two computer players (i.e. either Random, MiniMax or AlphaBeta) will play against each other, so your code must be generic enough to handle being the X player or the O player.</p>\n",
        "<p>The game of tic-tac-toe is small enough that we can generate the entire game tree while doing the MiniMax search. As a result, you do not need to create an evaluation function for non-terminal nodes (i.e. the H-MiniMax algorithm). What you will need to create is a utility function which returns the utility at terminal states. You will also need to create a successor function. This function takes the current state of the game and generates all the successors that can be reached within one move of the current state. Both the utility function and the successor function need to be written. You get to decide what these functions should look like. Once these two functions are in place, you can begin coding the actual MiniMax algorithm.</p>\n",
        "\n",
        "Observation:<br>\n",
        "¹A.k.a. Jogo da Velha, interestingly in Mozambique, they do not use the same name."
      ]
    },
    {
      "cell_type": "code",
      "metadata": {
        "id": "KvqfJPgj6ogi",
        "colab_type": "code",
        "cellView": "both",
        "colab": {}
      },
      "source": [
        "from IPython.display import Image"
      ],
      "execution_count": 0,
      "outputs": []
    },
    {
      "cell_type": "code",
      "metadata": {
        "id": "7IyMO5rKHkAT",
        "colab_type": "code",
        "outputId": "197bb52a-2a87-46a1-f630-136a137a7aa6",
        "colab": {
          "base_uri": "https://localhost:8080/",
          "height": 106
        }
      },
      "source": [
        "Image('img/figure1.png', width=700)"
      ],
      "execution_count": 5,
      "outputs": [
        {
          "output_type": "execute_result",
          "data": {
            "image/png": "[encoded data removed]",
            "text/plain": [
              "<IPython.core.display.Image object>"
            ]
          },
          "metadata": {
            "tags": [],
            "image/png": {
              "width": 700
            }
          },
          "execution_count": 5
        }
      ]
    },
    {
      "cell_type": "markdown",
      "metadata": {
        "id": "4bK07cJo7EHA",
        "colab_type": "text"
      },
      "source": [
        "<center>Figure 1: A sequence of valid moves for a tic-tac-toe problem</center>"
      ]
    },
    {
      "cell_type": "markdown",
      "metadata": {
        "id": "EQPw2lni1ag2",
        "colab_type": "text"
      },
      "source": [
        "<h2>2 Overview</h2>\n",
        "<p>For this not-graded assignment, you will be implementing the MiniMax adversarial search algorithm to compute the optimal move for either one of the players in the game. In this assignment you can also implement the more advanced Alpha-Beta search algorithm to speed up the search by cutting unnecessary branches of the game tree. For those who have never seen the game, the final state of the game occurs when either player has managed to align three of his/her symbols vertically, horizontally or in diagonal, or when there is no more blank squares on the board, as shown in Figure 2.</p>"
      ]
    },
    {
      "cell_type": "code",
      "metadata": {
        "id": "521fH6Vo7WkB",
        "colab_type": "code",
        "cellView": "both",
        "outputId": "d5e13066-fc91-40aa-81e9-a1704cc81fc5",
        "colab": {
          "base_uri": "https://localhost:8080/",
          "height": 140
        }
      },
      "source": [
        "Image('img/figure2.png', width=700)"
      ],
      "execution_count": 6,
      "outputs": [
        {
          "output_type": "execute_result",
          "data": {
            "image/png": "[encoded data removed]",
            "text/plain": [
              "<IPython.core.display.Image object>"
            ]
          },
          "metadata": {
            "tags": [],
            "image/png": {
              "width": 700
            }
          },
          "execution_count": 6
        }
      ]
    },
    {
      "cell_type": "markdown",
      "metadata": {
        "id": "ynZGECbt7VTT",
        "colab_type": "text"
      },
      "source": [
        "<center>Figure 2: Endgame examples</center>"
      ]
    },
    {
      "cell_type": "markdown",
      "metadata": {
        "id": "G9F-4S3A1ag3",
        "colab_type": "text"
      },
      "source": [
        "<h2>3 Implementation</h2>\n",
        "<p>At the bare minimum, you are required to implement only the API in Listing 1, below. However, it is highly recommended that you create additional methods to represent elements of the algorithm, such as the utility function and the successor function that generates the moves available to each player. We note that the API shown below is deliberately simplified to give students the maximum freedom to develop their own internal APIs (and minimize coincidental similarities in implementation), and that well developed code is a component of the final mark. By way of comparison, the instructor’s implementation has 3 additional methods, and uses the method of Listing 1 to invoke the minimax function. This interface <b>must be implemented</b> for every player you may add. </p>  "
      ]
    },
    {
      "cell_type": "code",
      "metadata": {
        "id": "ykbTsCxt1ag4",
        "colab_type": "code",
        "colab": {}
      },
      "source": [
        "# ==========================================\n",
        "# Listing 1: player_minimax.py\n",
        "# ==========================================\n",
        "\n",
        "\n",
        "from player import Player\n",
        "import util\n",
        "\n",
        "# ==========================================\n",
        "# Player Minimax\n",
        "# ==========================================\n",
        "\n",
        "class MinimaxPlayer(Player):\n",
        "    # −−−−−−−−−−−−−−−−−−−−−−−−−−−−−−−−−−−−−−\n",
        "    # Initialize\n",
        "    # −−−−−−−−−−−−−−−−−−−−−−−−−−−−−−−−−−−−−−\n",
        "    \n",
        "    def init(self, symbol):\n",
        "        # symbol is a string ’X’ or ’O’\n",
        "        super(MinimaxPlayer, self).init(symbol)\n",
        "\n",
        "    # −−−−−−−−−−−−−−−−−−−−−−−−−−−−−−−−−−−−−−−−−−\n",
        "    # Get next move\n",
        "    # −−−−−−−−−−−−−−−−−−−−−−−−−−−−−−−−−−−−−−−−−−\n",
        "    def get_next_move(self, board):\n",
        "        # board = [0,0,0, 0,0,0, 0,0,0]\n",
        "        # TODO return movement as integer (0 to 8) or None\n",
        "        return None"
      ],
      "execution_count": 0,
      "outputs": []
    },
    {
      "cell_type": "markdown",
      "metadata": {
        "id": "GaYOOygm1ag_",
        "colab_type": "text"
      },
      "source": [
        "<h2>4 Code-Specific Advice</h2>\n",
        "\n",
        "<ul>\n",
        "    <li>In file <b>util.py</b>, you can check many conditions of the endgame, including whether a particular player has won;</li>\n",
        "    <li>We already helped you figure out part of the problem of how to make your <b>MinimaxPlayer</b> be generic by providing the <b>symbol</b> which you can use to check whether the current player has won in the current <b>board</b>;</li>\n",
        "    <li>All classes and methods which you must complete yourself are marked with the <b>TODO</b> keyword (search for that using your favorite editor).</li>\n",
        "<ul>       "
      ]
    },
    {
      "cell_type": "markdown",
      "metadata": {
        "id": "8hHwJbhj1ag_",
        "colab_type": "text"
      },
      "source": [
        "<h2>5 Miscellaneous Advice</h2>\n",
        "<p>Here are some lessons we learned in creating our own solution and writing papers/reports:</p>\n",
        "\n",
        "<ul>\n",
        "    <li>It took the instructor approximately 30 minutes to code and debug the solution for this problem from scratch based on the pseudocode at AIMA, plan your time accordingly;</li>\n",
        "    <li>The Python standard library has a number of classes that greatly facilitate developing the data structures required for an efficient implementation;</li>\n",
        "    <li>The instructor’s implementation takes about 5 <b>milliseconds</b> to play a single game using the non-optimized minimax algorithm and less than one millisecond to do so using alpha-beta pruning;</li>\n",
        "    <li>Do not forget about Python’s profiler: <b>python -m cProfile tictactoe.py</b>;</li>\n",
        "</ul>"
      ]
    },
    {
      "cell_type": "markdown",
      "metadata": {
        "id": "u6vsnKQmerin",
        "colab_type": "text"
      },
      "source": [
        "<h2>6 Requeriments</h2>"
      ]
    },
    {
      "cell_type": "code",
      "metadata": {
        "id": "yGy32cggetLH",
        "colab_type": "code",
        "colab": {
          "base_uri": "https://localhost:8080/",
          "height": 34
        },
        "outputId": "23cc15c2-86e9-4118-b633-01e9437c6128"
      },
      "source": [
        "pip install timeout-decorator"
      ],
      "execution_count": 8,
      "outputs": [
        {
          "output_type": "stream",
          "text": [
            "Requirement already satisfied: timeout-decorator in /usr/local/lib/python3.6/dist-packages (0.4.1)\n"
          ],
          "name": "stdout"
        }
      ]
    },
    {
      "cell_type": "markdown",
      "metadata": {
        "id": "1wVbFp3y1ahA",
        "colab_type": "text"
      },
      "source": [
        "<h2>7 Testing</h2>\n",
        "\n",
        "You can automatically test your own code with the <b>test_tictactoe.py</b> bellow. <br>"
      ]
    },
    {
      "cell_type": "code",
      "metadata": {
        "id": "R7DgF8f_1ahA",
        "colab_type": "code",
        "outputId": "10bb75a5-e368-4636-f172-7a25f34b8fde",
        "colab": {
          "base_uri": "https://localhost:8080/",
          "height": 550
        }
      },
      "source": [
        "import unittest\n",
        "from common import *\n",
        "from util import *\n",
        "from tictactoe import *\n",
        "from player import *\n",
        "from player_alphabeta import *\n",
        "from player_human import *\n",
        "from player_random import *\n",
        "\n",
        "try:\n",
        "    from timeout_decorator import timeout\n",
        "except:\n",
        "    print (\"\"\"Oops! It looks like you don\\'t have timeout-decorator installed. Please do so using the following command:\n",
        "        pip install timeout-decorator\"\"\")\n",
        "    sys.exit(0)\n",
        "\n",
        "\n",
        "PLAYS = 10\n",
        "\n",
        "RANDOM = \"random\"\n",
        "MINIMAX = \"minimax\"\n",
        "ALPHABETA = \"alphabeta\"\n",
        "\n",
        "PLAYERS = { str(c): c for c in vars()[\"Player\"].__subclasses__() }\n",
        "\n",
        "def percentage(wins, games):\n",
        "    return float(wins) / float(games) * 100\n",
        "\n",
        "# ==========================================\n",
        "# Test TicTacToe\n",
        "# ==========================================\n",
        "\n",
        "class Test_TicTacToe(unittest.TestCase):\n",
        "\n",
        "    # ------------------------------------------\n",
        "    # Setup\n",
        "    # ------------------------------------------\n",
        "\n",
        "    @classmethod\n",
        "    def setUpClass(cls):\n",
        "        cls.minimax_vs_random_results = None\n",
        "        cls.random_vs_minimax_results = None\n",
        "        cls.minimax_vs_minimax_results = None\n",
        "        cls.alphabeta_vs_random_results = None\n",
        "        cls.random_vs_alphabeta_results = None\n",
        "\n",
        "    @classmethod\n",
        "    def tearDownClass(cls):\n",
        "\n",
        "        print(\"\\n\")\n",
        "\n",
        "        if cls.minimax_vs_random_results != None:\n",
        "            wins, losses, draws, errors = cls.minimax_vs_random_results\n",
        "            print(\"Minimax VS Random results:\")\n",
        "            print(\"  Wins: %f (%f%%)\" % ( wins, percentage(wins, PLAYS) ))\n",
        "            print(\"  Losses: %f (%f%%)\" % ( losses, percentage(losses, PLAYS) ))\n",
        "            print(\"  Draws: %f (%f%%)\" % ( draws, percentage(draws, PLAYS) ))\n",
        "\n",
        "\n",
        "        if cls.random_vs_minimax_results != None:\n",
        "            wins, losses, draws, errors = cls.random_vs_minimax_results\n",
        "            print(\"Random VS Minimax results:\")\n",
        "            print(\"  Wins: %f (%f%%)\" % ( wins, percentage(wins, PLAYS) ))\n",
        "            print(\"  Losses: %f (%f%%)\" % ( losses, percentage(losses, PLAYS) ))\n",
        "            print(\"  Draws: %f (%f%%)\" % ( draws, percentage(draws, PLAYS) ))\n",
        "\n",
        "\n",
        "        if cls.minimax_vs_minimax_results != None:\n",
        "            wins, losses, draws, errors = cls.minimax_vs_minimax_results\n",
        "            print(\"Minimax VS Minimax results:\")\n",
        "            print(\"  Wins: %f (%f%%)\" % ( wins, percentage(wins, PLAYS) ))\n",
        "            print(\"  Losses: %f (%f%%)\" % ( losses, percentage(losses, PLAYS) ))\n",
        "            print(\"  Draws: %f (%f%%)\" % ( draws, percentage(draws, PLAYS) ))\n",
        "\n",
        "\n",
        "        if cls.alphabeta_vs_random_results != None:\n",
        "            wins, losses, draws, errors = cls.alphabeta_vs_random_results\n",
        "            print(\"Alphabeta VS Random results:\")\n",
        "            print(\"  Wins: %f (%f%%)\" % ( wins, percentage(wins, PLAYS) ))\n",
        "            print(\"  Losses: %f (%f%%)\" % ( losses, percentage(losses, PLAYS) ))\n",
        "            print(\"  Draws: %f (%f%%)\" % ( draws, percentage(draws, PLAYS) ))\n",
        "\n",
        "\n",
        "        if cls.random_vs_alphabeta_results != None:\n",
        "            wins, losses, draws, errors = cls.random_vs_alphabeta_results\n",
        "            print(\"Random VS Alphabeta results:\")\n",
        "            print(\"  Wins: %f (%f%%)\" % ( wins, percentage(wins, PLAYS) ))\n",
        "            print(\"  Losses: %f (%f%%)\" % ( losses, percentage(losses, PLAYS) ))\n",
        "            print(\"  Draws: %f (%f%%)\" % ( draws, percentage(draws, PLAYS) ))\n",
        "\n",
        "\n",
        "    # ------------------------------------------\n",
        "    # Create game\n",
        "    # ------------------------------------------\n",
        "\n",
        "    def versus(self, playerO_name, playerX_name, rounds, time_per_round=0):\n",
        "\n",
        "        wins = 0\n",
        "        losses = 0\n",
        "        draws = 0\n",
        "        errors = 0\n",
        "\n",
        "        @timelimit(time_per_round)\n",
        "        def round_exec(playerO_name, playerX_name):\n",
        "            playerO = PLAYERS[playerO_name](O)\n",
        "            playerX = PLAYERS[playerX_name](X)\n",
        "            game = TicTacToe(playerO, playerX, False)\n",
        "            while game.winner == None:\n",
        "                game.update()\n",
        "            return DRAW if game.winner == DRAW else game.winner.symbol\n",
        "\n",
        "        for round in range(rounds):\n",
        "            try:\n",
        "                winner = round_exec(playerO_name, playerX_name)\n",
        "                if winner == O:\n",
        "                    wins += 1\n",
        "                elif winner == X:\n",
        "                    losses += 1\n",
        "                elif winner == DRAW:\n",
        "                    draws += 1\n",
        "            except Exception as e:\n",
        "                errors += 1\n",
        "        return (wins, losses, draws, errors)\n",
        "\n",
        "    # ------------------------------------------\n",
        "    # Minimax Vs Random\n",
        "    # ------------------------------------------\n",
        "\n",
        "    def test_minimax_vs_random(self):\n",
        "        wins, losses, draws, errors = self.versus(MINIMAX, RANDOM, PLAYS)\n",
        "        self.__class__.minimax_vs_random_results = (wins, losses, draws, errors)\n",
        "        #self.assertGreaterEqual(percentage(wins, PLAYS), 0.5) \n",
        "        #self.assertEqual(errors, 0)\n",
        "        var1 = percentage(wins, PLAYS)\n",
        "        var2 = 0.5\n",
        "        var3 = errors\n",
        "        var4 = 0\n",
        "        if var1 < var2 and var3 != var4:\n",
        "            print (\"test_minimax_vs_random failed! percentage(wins, PLAYS) is not greater than or equal to 0.5\")\n",
        "     \n",
        "        \n",
        "    # ------------------------------------------\n",
        "    # Random Vs Minimax\n",
        "    # ------------------------------------------\n",
        "\n",
        "    def test_random_vs_minimax(self):\n",
        "        wins, losses, draws, errors = self.versus(RANDOM, MINIMAX, PLAYS)\n",
        "        self.__class__.random_vs_minimax_results = (wins, losses, draws, errors)\n",
        "        #self.assertGreaterEqual(percentage(losses, PLAYS), 0.2)\n",
        "        #self.assertEqual(errors, 0)\n",
        "        var1 = percentage(losses, PLAYS)\n",
        "        var2 = 0.2\n",
        "        var3 = errors\n",
        "        var4 = 0\n",
        "        if var1 < var2 and var3 != var4:\n",
        "            print (\"test_random_vs_minimax failed! percentage(losses, PLAYS) is not greater than or equal to 0.2\")\n",
        "  \n",
        "\n",
        "    # ------------------------------------------\n",
        "    # Minimax Vs Minimax\n",
        "    # ------------------------------------------\n",
        "\n",
        "    def test_minimax_vs_minimax(self):\n",
        "        wins, losses, draws, errors = self.versus(MINIMAX, MINIMAX, PLAYS)\n",
        "        self.__class__.minimax_vs_minimax_results = (wins, losses, draws, errors)\n",
        "        #self.assertGreaterEqual(percentage(draws, PLAYS), 1.0)\n",
        "        #self.assertEqual(errors, 0)\n",
        "        var1 = percentage(draws, PLAYS)\n",
        "        var2 = 1.0\n",
        "        var3 = errors\n",
        "        var4 = 0\n",
        "        if var1 < var2 and var3 != var4:\n",
        "            print (\"test_minimax_vs_minimax failed! percentage(draws, PLAYS) is not greater than or equal to 1.0\")\n",
        "        \n",
        "\n",
        "    # ------------------------------------------\n",
        "    # Alphabeta Vs Random\n",
        "    # ------------------------------------------\n",
        "\n",
        "    def test_alphabeta_vs_random(self):\n",
        "        wins, losses, draws, errors = self.versus(ALPHABETA, RANDOM, PLAYS, time_per_round=0.4)\n",
        "        self.__class__.alphabeta_vs_random_results = (wins, losses, draws, errors)\n",
        "        #self.assertGreaterEqual(percentage(wins, PLAYS), 0.9)\n",
        "        #self.assertEqual(errors, 0)\n",
        "        var1 = percentage(wins, PLAYS)\n",
        "        var2 = 0.9\n",
        "        var3 = errors\n",
        "        var4 = 0\n",
        "        if var1 < var2 and var3 != var4:\n",
        "            print (\"test_alphabeta_vs_random failed! percentage(wins, PLAYS) is not greater than or equal to 0.9\")\n",
        "        \n",
        "\n",
        "    # ------------------------------------------\n",
        "    # Random Vs Alphabeta\n",
        "    # ------------------------------------------\n",
        "\n",
        "    def test_random_vs_alphabeta(self):\n",
        "        wins, losses, draws, errors = self.versus(RANDOM, ALPHABETA, PLAYS, time_per_round=0.4)\n",
        "        self.__class__.random_vs_alphabeta_results = (wins, losses, draws, errors)\n",
        "        #self.assertGreaterEqual(percentage(losses, PLAYS), 0.9)\n",
        "        #self.assertEqual(errors, 0)\n",
        "        var1 = percentage(losses, PLAYS)\n",
        "        var2 = 0.9\n",
        "        var3 = errors\n",
        "        var4 = 0\n",
        "        if var1 < var2 and var3 != var4:\n",
        "            print (\"test_random_vs_alphabeta failed! percentage(losses, PLAYS) is not greater than or equal to 0.9\")\n",
        "        \n",
        "        \n",
        "\n",
        "if __name__ == \"__main__\":\n",
        "    unittest.main(argv=['first-arg-is-ignored'], exit=False)\n",
        "    \n",
        "    #unittest.main(verbosity=False)"
      ],
      "execution_count": 12,
      "outputs": [
        {
          "output_type": "stream",
          "text": [
            "..."
          ],
          "name": "stderr"
        },
        {
          "output_type": "stream",
          "text": [
            "test_minimax_vs_minimax failed! percentage(draws, PLAYS) is not greater than or equal to 1.0\n",
            "test_minimax_vs_random failed! percentage(wins, PLAYS) is not greater than or equal to 0.5\n"
          ],
          "name": "stdout"
        },
        {
          "output_type": "stream",
          "text": [
            ".."
          ],
          "name": "stderr"
        },
        {
          "output_type": "stream",
          "text": [
            "test_random_vs_minimax failed! percentage(losses, PLAYS) is not greater than or equal to 0.2\n",
            "\n",
            "\n",
            "Minimax VS Random results:\n",
            "  Wins: 0.000000 (0.000000%)\n",
            "  Losses: 0.000000 (0.000000%)\n",
            "  Draws: 0.000000 (0.000000%)\n",
            "Random VS Minimax results:\n",
            "  Wins: 0.000000 (0.000000%)\n",
            "  Losses: 0.000000 (0.000000%)\n",
            "  Draws: 0.000000 (0.000000%)\n",
            "Minimax VS Minimax results:\n",
            "  Wins: 0.000000 (0.000000%)\n",
            "  Losses: 0.000000 (0.000000%)\n",
            "  Draws: 0.000000 (0.000000%)\n",
            "Alphabeta VS Random results:\n",
            "  Wins: 10.000000 (100.000000%)\n",
            "  Losses: 0.000000 (0.000000%)\n",
            "  Draws: 0.000000 (0.000000%)\n",
            "Random VS Alphabeta results:\n",
            "  Wins: 0.000000 (0.000000%)\n",
            "  Losses: 10.000000 (100.000000%)\n",
            "  Draws: 0.000000 (0.000000%)\n"
          ],
          "name": "stdout"
        },
        {
          "output_type": "stream",
          "text": [
            "\n",
            "----------------------------------------------------------------------\n",
            "Ran 5 tests in 2.180s\n",
            "\n",
            "OK\n"
          ],
          "name": "stderr"
        }
      ]
    },
    {
      "cell_type": "code",
      "metadata": {
        "id": "qItw0tdD1ahF",
        "colab_type": "code",
        "colab": {}
      },
      "source": [
        ""
      ],
      "execution_count": 0,
      "outputs": []
    }
  ]
}